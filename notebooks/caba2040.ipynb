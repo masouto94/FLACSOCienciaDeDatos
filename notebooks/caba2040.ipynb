{
 "cells": [
  {
   "cell_type": "code",
   "execution_count": 66,
   "metadata": {},
   "outputs": [],
   "source": [
    "import pandas as pd"
   ]
  },
  {
   "cell_type": "code",
   "execution_count": 68,
   "metadata": {},
   "outputs": [
    {
     "data": {
      "text/html": [
       "<div>\n",
       "<style scoped>\n",
       "    .dataframe tbody tr th:only-of-type {\n",
       "        vertical-align: middle;\n",
       "    }\n",
       "\n",
       "    .dataframe tbody tr th {\n",
       "        vertical-align: top;\n",
       "    }\n",
       "\n",
       "    .dataframe thead th {\n",
       "        text-align: right;\n",
       "    }\n",
       "</style>\n",
       "<table border=\"1\" class=\"dataframe\">\n",
       "  <thead>\n",
       "    <tr style=\"text-align: right;\">\n",
       "      <th></th>\n",
       "      <th>year</th>\n",
       "      <th>edad</th>\n",
       "      <th>Ambos sexos</th>\n",
       "      <th>Varones</th>\n",
       "      <th>Mujeres</th>\n",
       "    </tr>\n",
       "  </thead>\n",
       "  <tbody>\n",
       "    <tr>\n",
       "      <th>0</th>\n",
       "      <td>2010</td>\n",
       "      <td>0-4</td>\n",
       "      <td>213114</td>\n",
       "      <td>109643</td>\n",
       "      <td>103471</td>\n",
       "    </tr>\n",
       "    <tr>\n",
       "      <th>1</th>\n",
       "      <td>2010</td>\n",
       "      <td>5-9</td>\n",
       "      <td>201055</td>\n",
       "      <td>102701</td>\n",
       "      <td>98354</td>\n",
       "    </tr>\n",
       "    <tr>\n",
       "      <th>2</th>\n",
       "      <td>2010</td>\n",
       "      <td>10-14</td>\n",
       "      <td>190494</td>\n",
       "      <td>95994</td>\n",
       "      <td>94500</td>\n",
       "    </tr>\n",
       "    <tr>\n",
       "      <th>3</th>\n",
       "      <td>2010</td>\n",
       "      <td>15-19</td>\n",
       "      <td>201042</td>\n",
       "      <td>99784</td>\n",
       "      <td>101258</td>\n",
       "    </tr>\n",
       "    <tr>\n",
       "      <th>4</th>\n",
       "      <td>2010</td>\n",
       "      <td>20-24</td>\n",
       "      <td>228298</td>\n",
       "      <td>111726</td>\n",
       "      <td>116572</td>\n",
       "    </tr>\n",
       "    <tr>\n",
       "      <th>...</th>\n",
       "      <td>...</td>\n",
       "      <td>...</td>\n",
       "      <td>...</td>\n",
       "      <td>...</td>\n",
       "      <td>...</td>\n",
       "    </tr>\n",
       "    <tr>\n",
       "      <th>646</th>\n",
       "      <td>2040</td>\n",
       "      <td>80-84</td>\n",
       "      <td>90168</td>\n",
       "      <td>32572</td>\n",
       "      <td>57596</td>\n",
       "    </tr>\n",
       "    <tr>\n",
       "      <th>647</th>\n",
       "      <td>2040</td>\n",
       "      <td>85-89</td>\n",
       "      <td>61378</td>\n",
       "      <td>19818</td>\n",
       "      <td>41560</td>\n",
       "    </tr>\n",
       "    <tr>\n",
       "      <th>648</th>\n",
       "      <td>2040</td>\n",
       "      <td>90-94</td>\n",
       "      <td>34858</td>\n",
       "      <td>9894</td>\n",
       "      <td>24964</td>\n",
       "    </tr>\n",
       "    <tr>\n",
       "      <th>649</th>\n",
       "      <td>2040</td>\n",
       "      <td>95-99</td>\n",
       "      <td>14441</td>\n",
       "      <td>3576</td>\n",
       "      <td>10865</td>\n",
       "    </tr>\n",
       "    <tr>\n",
       "      <th>650</th>\n",
       "      <td>2040</td>\n",
       "      <td>100 +</td>\n",
       "      <td>5145</td>\n",
       "      <td>1102</td>\n",
       "      <td>4043</td>\n",
       "    </tr>\n",
       "  </tbody>\n",
       "</table>\n",
       "<p>651 rows × 5 columns</p>\n",
       "</div>"
      ],
      "text/plain": [
       "     year   edad  Ambos sexos  Varones  Mujeres\n",
       "0    2010    0-4       213114   109643   103471\n",
       "1    2010    5-9       201055   102701    98354\n",
       "2    2010  10-14       190494    95994    94500\n",
       "3    2010  15-19       201042    99784   101258\n",
       "4    2010  20-24       228298   111726   116572\n",
       "..    ...    ...          ...      ...      ...\n",
       "646  2040  80-84        90168    32572    57596\n",
       "647  2040  85-89        61378    19818    41560\n",
       "648  2040  90-94        34858     9894    24964\n",
       "649  2040  95-99        14441     3576    10865\n",
       "650  2040  100 +         5145     1102     4043\n",
       "\n",
       "[651 rows x 5 columns]"
      ]
     },
     "execution_count": 68,
     "metadata": {},
     "output_type": "execute_result"
    }
   ],
   "source": [
    "df_caba = pd.read_csv(\"../datasets/caba 1040.csv\")\n",
    "df_caba"
   ]
  },
  {
   "cell_type": "code",
   "execution_count": 83,
   "metadata": {},
   "outputs": [
    {
     "data": {
      "text/plain": [
       "<Axes: xlabel='year'>"
      ]
     },
     "execution_count": 83,
     "metadata": {},
     "output_type": "execute_result"
    },
    {
     "data": {
      "image/png": "[encoded data removed]",
      "text/plain": [
       "<Figure size 640x480 with 1 Axes>"
      ]
     },
     "metadata": {},
     "output_type": "display_data"
    }
   ],
   "source": [
    "df_caba.groupby(\"year\").sum()[\"Ambos sexos\"].plot()"
   ]
  }
 ],
 "metadata": {
  "kernelspec": {
   "display_name": "venv",
   "language": "python",
   "name": "python3"
  },
  "language_info": {
   "codemirror_mode": {
    "name": "ipython",
    "version": 3
   },
   "file_extension": ".py",
   "mimetype": "text/x-python",
   "name": "python",
   "nbconvert_exporter": "python",
   "pygments_lexer": "ipython3",
   "version": "3.10.12"
  }
 },
 "nbformat": 4,
 "nbformat_minor": 2
}
