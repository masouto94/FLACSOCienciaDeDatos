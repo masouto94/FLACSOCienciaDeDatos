{
 "cells": [
  {
   "cell_type": "code",
   "execution_count": 10,
   "id": "b76143c8",
   "metadata": {},
   "outputs": [],
   "source": [
    "import pandas as pd\n",
    "from glob import glob\n",
    "from pathlib import Path\n"
   ]
  },
  {
   "cell_type": "code",
   "execution_count": null,
   "id": "40383790",
   "metadata": {},
   "outputs": [
    {
     "data": {
      "text/plain": [
       "dict_keys(['barley', 'sweet_potato', 'oilseeds_total', 'wheat', 'banana', 'tapioca'])"
      ]
     },
     "execution_count": 11,
     "metadata": {},
     "output_type": "execute_result"
    }
   ],
   "source": [
    "work_dfs = {}\n",
    "for file in glob(\"./cultivos/*.csv\"):\n",
    "    df = pd.read_csv(file)\n",
    "    filename= Path(file).stem.lower()\n",
    "    work_dfs[filename] = df\n",
    "    \n",
    "work_dfs.keys()"
   ]
  },
  {
   "cell_type": "code",
   "execution_count": 15,
   "id": "aea6482a",
   "metadata": {},
   "outputs": [
    {
     "data": {
      "text/html": [
       "<div>\n",
       "<style scoped>\n",
       "    .dataframe tbody tr th:only-of-type {\n",
       "        vertical-align: middle;\n",
       "    }\n",
       "\n",
       "    .dataframe tbody tr th {\n",
       "        vertical-align: top;\n",
       "    }\n",
       "\n",
       "    .dataframe thead th {\n",
       "        text-align: right;\n",
       "    }\n",
       "</style>\n",
       "<table border=\"1\" class=\"dataframe\">\n",
       "  <thead>\n",
       "    <tr style=\"text-align: right;\">\n",
       "      <th></th>\n",
       "      <th>Annual_Rainfall</th>\n",
       "      <th>Pesticide</th>\n",
       "      <th>Fertilizer</th>\n",
       "      <th>Crop_Year</th>\n",
       "      <th>Yield</th>\n",
       "    </tr>\n",
       "  </thead>\n",
       "  <tbody>\n",
       "    <tr>\n",
       "      <th>0</th>\n",
       "      <td>1852.9</td>\n",
       "      <td>1895.96</td>\n",
       "      <td>582059.72</td>\n",
       "      <td>1997</td>\n",
       "      <td>1.680000</td>\n",
       "    </tr>\n",
       "    <tr>\n",
       "      <th>11</th>\n",
       "      <td>1303.7</td>\n",
       "      <td>13279.78</td>\n",
       "      <td>4076892.46</td>\n",
       "      <td>1997</td>\n",
       "      <td>1.040000</td>\n",
       "    </tr>\n",
       "    <tr>\n",
       "      <th>12</th>\n",
       "      <td>1189.1</td>\n",
       "      <td>28272.00</td>\n",
       "      <td>8679504.00</td>\n",
       "      <td>1997</td>\n",
       "      <td>1.347097</td>\n",
       "    </tr>\n",
       "    <tr>\n",
       "      <th>13</th>\n",
       "      <td>690.1</td>\n",
       "      <td>11470.00</td>\n",
       "      <td>3521290.00</td>\n",
       "      <td>1997</td>\n",
       "      <td>2.995455</td>\n",
       "    </tr>\n",
       "    <tr>\n",
       "      <th>14</th>\n",
       "      <td>473.9</td>\n",
       "      <td>104481.47</td>\n",
       "      <td>32075811.29</td>\n",
       "      <td>1997</td>\n",
       "      <td>2.046329</td>\n",
       "    </tr>\n",
       "    <tr>\n",
       "      <th>218</th>\n",
       "      <td>661.2</td>\n",
       "      <td>13020.00</td>\n",
       "      <td>3997140.00</td>\n",
       "      <td>1997</td>\n",
       "      <td>2.596667</td>\n",
       "    </tr>\n",
       "    <tr>\n",
       "      <th>273</th>\n",
       "      <td>2804.1</td>\n",
       "      <td>406.10</td>\n",
       "      <td>124672.70</td>\n",
       "      <td>1997</td>\n",
       "      <td>1.155000</td>\n",
       "    </tr>\n",
       "  </tbody>\n",
       "</table>\n",
       "</div>"
      ],
      "text/plain": [
       "     Annual_Rainfall  Pesticide   Fertilizer  Crop_Year     Yield\n",
       "0             1852.9    1895.96    582059.72       1997  1.680000\n",
       "11            1303.7   13279.78   4076892.46       1997  1.040000\n",
       "12            1189.1   28272.00   8679504.00       1997  1.347097\n",
       "13             690.1   11470.00   3521290.00       1997  2.995455\n",
       "14             473.9  104481.47  32075811.29       1997  2.046329\n",
       "218            661.2   13020.00   3997140.00       1997  2.596667\n",
       "273           2804.1     406.10    124672.70       1997  1.155000"
      ]
     },
     "execution_count": 15,
     "metadata": {},
     "output_type": "execute_result"
    }
   ],
   "source": [
    "work_dfs[\"barley\"][work_dfs[\"barley\"][\"Crop_Year\"] == 1997]"
   ]
  }
 ],
 "metadata": {
  "kernelspec": {
   "display_name": "venv",
   "language": "python",
   "name": "python3"
  },
  "language_info": {
   "codemirror_mode": {
    "name": "ipython",
    "version": 3
   },
   "file_extension": ".py",
   "mimetype": "text/x-python",
   "name": "python",
   "nbconvert_exporter": "python",
   "pygments_lexer": "ipython3",
   "version": "3.10.12"
  }
 },
 "nbformat": 4,
 "nbformat_minor": 5
}
