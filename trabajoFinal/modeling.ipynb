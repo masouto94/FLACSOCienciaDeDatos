{
 "cells": [
  {
   "cell_type": "code",
   "execution_count": 69,
   "id": "b76143c8",
   "metadata": {},
   "outputs": [],
   "source": [
    "from helpers import *\n",
    "import pandas as pd\n",
    "import numpy as np\n",
    "from glob import glob\n",
    "import matplotlib.pyplot as plt\n",
    "from pathlib import Path\n",
    "from sklearn.pipeline import Pipeline\n",
    "from sklearn.preprocessing import StandardScaler\n",
    "from sklearn.linear_model import Ridge\n",
    "from sklearn.ensemble import RandomForestRegressor\n",
    "from sklearn.neural_network import MLPRegressor\n",
    "from sklearn.model_selection import train_test_split, GridSearchCV\n",
    "from sklearn.metrics import mean_squared_error, mean_absolute_error\n",
    "\n"
   ]
  },
  {
   "cell_type": "code",
   "execution_count": 70,
   "id": "40383790",
   "metadata": {},
   "outputs": [
    {
     "data": {
      "text/plain": [
       "dict_keys(['Barley', 'Oilseeds_total', 'Rice', 'Sweet_potato', 'Tapioca'])"
      ]
     },
     "execution_count": 70,
     "metadata": {},
     "output_type": "execute_result"
    }
   ],
   "source": [
    "work_dfs = {}\n",
    "for file in glob(\"./cultivos/*.csv\"):\n",
    "    df = pd.read_csv(file)\n",
    "    filename= Path(file).stem\n",
    "    work_dfs[filename] = df\n",
    "    \n",
    "work_dfs.keys()"
   ]
  },
  {
   "cell_type": "markdown",
   "id": "53fd35c6",
   "metadata": {},
   "source": [
    "## Preprocesamiento y modelado"
   ]
  },
  {
   "cell_type": "markdown",
   "id": "d791a84c",
   "metadata": {},
   "source": [
    "Ahora se ejecuta un pipeline que aplica `StandardScaler` y un modelo (`Ridge`, `RandomForest`,`MLPRegressor`) con sus respectivas grillas de hiperparámetros para comparar resultados. Los resultados se almacenan en `regressors` con el nombre del cultivo como clave y el modelo como valor"
   ]
  },
  {
   "cell_type": "code",
   "execution_count": 71,
   "id": "dd965a10",
   "metadata": {},
   "outputs": [
    {
     "name": "stdout",
     "output_type": "stream",
     "text": [
      "Para Barley\n",
      "Modelo: Ridge\n",
      "Mejores Parámetros: {'regressor__alpha': 10.0}\n",
      "RMSE: 0.76\n",
      "------------------------------\n",
      "Para Barley\n",
      "Modelo: RandomForest\n",
      "Mejores Parámetros: {'regressor__max_depth': None, 'regressor__n_estimators': 50}\n",
      "RMSE: 0.64\n",
      "------------------------------\n",
      "Para Barley\n",
      "Modelo: MLP\n",
      "Mejores Parámetros: {'regressor__alpha': 0.0001, 'regressor__hidden_layer_sizes': (100,)}\n",
      "RMSE: 0.63\n",
      "------------------------------\n",
      "Para Oilseeds_total\n",
      "Modelo: Ridge\n",
      "Mejores Parámetros: {'regressor__alpha': 1.0}\n",
      "RMSE: 0.05\n",
      "------------------------------\n",
      "Para Oilseeds_total\n",
      "Modelo: RandomForest\n",
      "Mejores Parámetros: {'regressor__max_depth': None, 'regressor__n_estimators': 100}\n",
      "RMSE: 0.06\n",
      "------------------------------\n",
      "Para Oilseeds_total\n",
      "Modelo: MLP\n",
      "Mejores Parámetros: {'regressor__alpha': 0.1, 'regressor__hidden_layer_sizes': (50,)}\n",
      "RMSE: 0.13\n",
      "------------------------------\n",
      "Para Rice\n",
      "Modelo: Ridge\n",
      "Mejores Parámetros: {'regressor__alpha': 1.0}\n",
      "RMSE: 0.66\n",
      "------------------------------\n",
      "Para Rice\n",
      "Modelo: RandomForest\n",
      "Mejores Parámetros: {'regressor__max_depth': 5, 'regressor__n_estimators': 500}\n",
      "RMSE: 0.58\n",
      "------------------------------\n",
      "Para Rice\n",
      "Modelo: MLP\n",
      "Mejores Parámetros: {'regressor__alpha': 0.0001, 'regressor__hidden_layer_sizes': (50,)}\n",
      "RMSE: 0.63\n",
      "------------------------------\n",
      "Para Sweet_potato\n",
      "Modelo: Ridge\n",
      "Mejores Parámetros: {'regressor__alpha': 10.0}\n",
      "RMSE: 1.40\n",
      "------------------------------\n",
      "Para Sweet_potato\n",
      "Modelo: RandomForest\n",
      "Mejores Parámetros: {'regressor__max_depth': 5, 'regressor__n_estimators': 100}\n",
      "RMSE: 0.68\n",
      "------------------------------\n",
      "Para Sweet_potato\n",
      "Modelo: MLP\n",
      "Mejores Parámetros: {'regressor__alpha': 0.01, 'regressor__hidden_layer_sizes': (100,)}\n",
      "RMSE: 1.22\n",
      "------------------------------\n",
      "Para Tapioca\n",
      "Modelo: Ridge\n",
      "Mejores Parámetros: {'regressor__alpha': 10.0}\n",
      "RMSE: 0.37\n",
      "------------------------------\n",
      "Para Tapioca\n",
      "Modelo: RandomForest\n",
      "Mejores Parámetros: {'regressor__max_depth': None, 'regressor__n_estimators': 500}\n",
      "RMSE: 0.16\n",
      "------------------------------\n",
      "Para Tapioca\n",
      "Modelo: MLP\n",
      "Mejores Parámetros: {'regressor__alpha': 0.1, 'regressor__hidden_layer_sizes': (100,)}\n",
      "RMSE: 0.69\n",
      "------------------------------\n"
     ]
    }
   ],
   "source": [
    "regressors = {} \n",
    "for name, df in work_dfs.items():\n",
    "    grouped = df.set_index(\"Crop_Year\")\n",
    "\n",
    "    X_train, X_test, y_train, y_test = train_test_split(grouped.drop(\"Yield\", axis=1), grouped[\"Yield\"], test_size=0.2, random_state=42)\n",
    "\n",
    "    # Definir los modelos en un diccionario con sus parámetros\n",
    "    pipelines = {\n",
    "        'Ridge': Pipeline([('scaler', StandardScaler()), ('regressor', Ridge())]),\n",
    "        'RandomForest': Pipeline([('scaler', StandardScaler()), ('regressor', RandomForestRegressor(random_state=42))]),\n",
    "        'MLP': Pipeline([('scaler', StandardScaler()), ('regressor', MLPRegressor(max_iter=5000, random_state=42))])\n",
    "    }\n",
    "\n",
    "    param_grids = {\n",
    "        'Ridge': {'regressor__alpha': [0.01, 0.1, 1.0, 10.0]},\n",
    "        'RandomForest': {'regressor__n_estimators': [50, 100,500], 'regressor__max_depth': [None, 5]},\n",
    "        'MLP': {'regressor__hidden_layer_sizes': [(50,), (100,)], 'regressor__alpha': [0.0001, 0.001,0.01,0.1]}\n",
    "    }\n",
    "\n",
    "    # Ejecutar GridSearch para cada modelo\n",
    "    mejores_resultados = {}\n",
    "\n",
    "    for nombre, pipeline in pipelines.items():\n",
    "        grid = GridSearchCV(pipeline, param_grids[nombre], cv=5, scoring='neg_mean_squared_error', n_jobs=-1)\n",
    "        grid.fit(X_train, y_train)\n",
    "        y_pred = grid.predict(X_test)\n",
    "        rmse = np.sqrt(mean_squared_error(y_test, y_pred))\n",
    "        mejores_resultados[nombre] = {'BestParams': grid.best_params_, 'RMSE': rmse, 'Model': grid.best_estimator_}\n",
    "        \n",
    "\n",
    "    # Mostrar resultados\n",
    "    for modelo, resultado in mejores_resultados.items():\n",
    "        print(f\"Para {name}\")\n",
    "        print(f\"Modelo: {modelo}\")\n",
    "        print(f\"Mejores Parámetros: {resultado['BestParams']}\")\n",
    "        print(f\"RMSE: {resultado['RMSE']:.2f}\")\n",
    "        print(\"-\" * 30)\n",
    "    best_model = min(mejores_resultados, key=lambda k: mejores_resultados[k]['RMSE'])\n",
    "    regressors[name] =  mejores_resultados.get(best_model).get(\"Model\")\n"
   ]
  },
  {
   "cell_type": "markdown",
   "id": "76508bcf",
   "metadata": {},
   "source": [
    "### Resultados"
   ]
  },
  {
   "cell_type": "code",
   "execution_count": 72,
   "id": "ed51f4e4",
   "metadata": {},
   "outputs": [
    {
     "data": {
      "text/html": [
       "<div>\n",
       "<style scoped>\n",
       "    .dataframe tbody tr th:only-of-type {\n",
       "        vertical-align: middle;\n",
       "    }\n",
       "\n",
       "    .dataframe tbody tr th {\n",
       "        vertical-align: top;\n",
       "    }\n",
       "\n",
       "    .dataframe thead th {\n",
       "        text-align: right;\n",
       "    }\n",
       "</style>\n",
       "<table border=\"1\" class=\"dataframe\">\n",
       "  <thead>\n",
       "    <tr style=\"text-align: right;\">\n",
       "      <th></th>\n",
       "      <th>Mejor modelo</th>\n",
       "    </tr>\n",
       "  </thead>\n",
       "  <tbody>\n",
       "    <tr>\n",
       "      <th>Barley</th>\n",
       "      <td>MLPRegressor(max_iter=5000, random_state=42)</td>\n",
       "    </tr>\n",
       "    <tr>\n",
       "      <th>Oilseeds_total</th>\n",
       "      <td>Ridge()</td>\n",
       "    </tr>\n",
       "    <tr>\n",
       "      <th>Rice</th>\n",
       "      <td>(DecisionTreeRegressor(max_depth=5, max_featur...</td>\n",
       "    </tr>\n",
       "    <tr>\n",
       "      <th>Sweet_potato</th>\n",
       "      <td>(DecisionTreeRegressor(max_depth=5, max_featur...</td>\n",
       "    </tr>\n",
       "    <tr>\n",
       "      <th>Tapioca</th>\n",
       "      <td>(DecisionTreeRegressor(max_features=1.0, rando...</td>\n",
       "    </tr>\n",
       "  </tbody>\n",
       "</table>\n",
       "</div>"
      ],
      "text/plain": [
       "                                                     Mejor modelo\n",
       "Barley               MLPRegressor(max_iter=5000, random_state=42)\n",
       "Oilseeds_total                                            Ridge()\n",
       "Rice            (DecisionTreeRegressor(max_depth=5, max_featur...\n",
       "Sweet_potato    (DecisionTreeRegressor(max_depth=5, max_featur...\n",
       "Tapioca         (DecisionTreeRegressor(max_features=1.0, rando..."
      ]
     },
     "execution_count": 72,
     "metadata": {},
     "output_type": "execute_result"
    }
   ],
   "source": [
    "resultados = pd.DataFrame.from_dict(regressors, columns=[\"Mejor modelo\"],orient=\"index\")\n",
    "resultados[\"Mejor modelo\"] = resultados[\"Mejor modelo\"].apply(lambda x: x.steps[1][1])\n",
    "resultados"
   ]
  },
  {
   "cell_type": "markdown",
   "id": "fe556005",
   "metadata": {},
   "source": [
    "Se puede hacer una prediccion para el cultivo elegido con su mejor modelo al seleccionar la clave y pasar un nuevo vector de variables. Por completitud, se pide un dataframe con los nombres de las columnas. Pero funciona también sin los headers"
   ]
  },
  {
   "cell_type": "markdown",
   "id": "92ada8fb",
   "metadata": {},
   "source": [
    "### Algunas predicciones"
   ]
  },
  {
   "cell_type": "code",
   "execution_count": 73,
   "id": "6c40cebb",
   "metadata": {},
   "outputs": [
    {
     "data": {
      "text/plain": [
       "array([1.0199958])"
      ]
     },
     "execution_count": 73,
     "metadata": {},
     "output_type": "execute_result"
    }
   ],
   "source": [
    "sample = pd.DataFrame([{\"Annual_Rainfall\":940.700000,\"Fertilizer\":18014.620000,\"Pesticide\":356.700000}])\n",
    "regressors.get(\"Barley\").predict(sample)\n"
   ]
  },
  {
   "cell_type": "code",
   "execution_count": 74,
   "id": "20e0e9b5",
   "metadata": {},
   "outputs": [
    {
     "data": {
      "text/plain": [
       "array([0.904978])"
      ]
     },
     "execution_count": 74,
     "metadata": {},
     "output_type": "execute_result"
    }
   ],
   "source": [
    "regressors.get(\"Sweet_potato\").predict(sample)"
   ]
  }
 ],
 "metadata": {
  "kernelspec": {
   "display_name": "venv",
   "language": "python",
   "name": "python3"
  },
  "language_info": {
   "codemirror_mode": {
    "name": "ipython",
    "version": 3
   },
   "file_extension": ".py",
   "mimetype": "text/x-python",
   "name": "python",
   "nbconvert_exporter": "python",
   "pygments_lexer": "ipython3",
   "version": "3.12.7"
  }
 },
 "nbformat": 4,
 "nbformat_minor": 5
}
