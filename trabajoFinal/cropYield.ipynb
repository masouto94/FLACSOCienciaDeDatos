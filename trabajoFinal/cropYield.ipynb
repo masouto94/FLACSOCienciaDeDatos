{
 "cells": [
  {
   "cell_type": "code",
   "execution_count": 9,
   "id": "1a2a4ce6",
   "metadata": {},
   "outputs": [],
   "source": [
    "from stats_helpers import *\n",
    "import pandas as pd\n",
    "import matplotlib.pyplot as plt\n",
    "plt.rcParams[\"figure.figsize\"] = (30,10)\n",
    "pd.set_option(\"display.float_format\", \"{:.6f}\".format)"
   ]
  },
  {
   "cell_type": "markdown",
   "id": "a91a0bbc",
   "metadata": {},
   "source": [
    "# Dataset elegido"
   ]
  },
  {
   "cell_type": "markdown",
   "id": "3ed85a34",
   "metadata": {},
   "source": [
    "El dataset es bla bla bla [disponible aquí](https://www.kaggle.com/datasets/akshatgupta7/crop-yield-in-indian-states-dataset)"
   ]
  },
  {
   "cell_type": "code",
   "execution_count": 10,
   "id": "c1fd2c58",
   "metadata": {},
   "outputs": [
    {
     "data": {
      "text/html": [
       "<div>\n",
       "<style scoped>\n",
       "    .dataframe tbody tr th:only-of-type {\n",
       "        vertical-align: middle;\n",
       "    }\n",
       "\n",
       "    .dataframe tbody tr th {\n",
       "        vertical-align: top;\n",
       "    }\n",
       "\n",
       "    .dataframe thead th {\n",
       "        text-align: right;\n",
       "    }\n",
       "</style>\n",
       "<table border=\"1\" class=\"dataframe\">\n",
       "  <thead>\n",
       "    <tr style=\"text-align: right;\">\n",
       "      <th></th>\n",
       "      <th>Crop</th>\n",
       "      <th>Crop_Year</th>\n",
       "      <th>Season</th>\n",
       "      <th>State</th>\n",
       "      <th>Area</th>\n",
       "      <th>Production</th>\n",
       "      <th>Annual_Rainfall</th>\n",
       "      <th>Fertilizer</th>\n",
       "      <th>Pesticide</th>\n",
       "      <th>Yield</th>\n",
       "    </tr>\n",
       "  </thead>\n",
       "  <tbody>\n",
       "    <tr>\n",
       "      <th>0</th>\n",
       "      <td>Arecanut</td>\n",
       "      <td>1997</td>\n",
       "      <td>Whole Year</td>\n",
       "      <td>Assam</td>\n",
       "      <td>73814.000000</td>\n",
       "      <td>56708</td>\n",
       "      <td>2051.400000</td>\n",
       "      <td>7024878.380000</td>\n",
       "      <td>22882.340000</td>\n",
       "      <td>0.796087</td>\n",
       "    </tr>\n",
       "    <tr>\n",
       "      <th>1</th>\n",
       "      <td>Arhar/Tur</td>\n",
       "      <td>1997</td>\n",
       "      <td>Kharif</td>\n",
       "      <td>Assam</td>\n",
       "      <td>6637.000000</td>\n",
       "      <td>4685</td>\n",
       "      <td>2051.400000</td>\n",
       "      <td>631643.290000</td>\n",
       "      <td>2057.470000</td>\n",
       "      <td>0.710435</td>\n",
       "    </tr>\n",
       "    <tr>\n",
       "      <th>2</th>\n",
       "      <td>Castor seed</td>\n",
       "      <td>1997</td>\n",
       "      <td>Kharif</td>\n",
       "      <td>Assam</td>\n",
       "      <td>796.000000</td>\n",
       "      <td>22</td>\n",
       "      <td>2051.400000</td>\n",
       "      <td>75755.320000</td>\n",
       "      <td>246.760000</td>\n",
       "      <td>0.238333</td>\n",
       "    </tr>\n",
       "    <tr>\n",
       "      <th>3</th>\n",
       "      <td>Coconut</td>\n",
       "      <td>1997</td>\n",
       "      <td>Whole Year</td>\n",
       "      <td>Assam</td>\n",
       "      <td>19656.000000</td>\n",
       "      <td>126905000</td>\n",
       "      <td>2051.400000</td>\n",
       "      <td>1870661.520000</td>\n",
       "      <td>6093.360000</td>\n",
       "      <td>5238.051739</td>\n",
       "    </tr>\n",
       "    <tr>\n",
       "      <th>4</th>\n",
       "      <td>Cotton(lint)</td>\n",
       "      <td>1997</td>\n",
       "      <td>Kharif</td>\n",
       "      <td>Assam</td>\n",
       "      <td>1739.000000</td>\n",
       "      <td>794</td>\n",
       "      <td>2051.400000</td>\n",
       "      <td>165500.630000</td>\n",
       "      <td>539.090000</td>\n",
       "      <td>0.420909</td>\n",
       "    </tr>\n",
       "    <tr>\n",
       "      <th>...</th>\n",
       "      <td>...</td>\n",
       "      <td>...</td>\n",
       "      <td>...</td>\n",
       "      <td>...</td>\n",
       "      <td>...</td>\n",
       "      <td>...</td>\n",
       "      <td>...</td>\n",
       "      <td>...</td>\n",
       "      <td>...</td>\n",
       "      <td>...</td>\n",
       "    </tr>\n",
       "    <tr>\n",
       "      <th>19684</th>\n",
       "      <td>Small millets</td>\n",
       "      <td>1998</td>\n",
       "      <td>Kharif</td>\n",
       "      <td>Nagaland</td>\n",
       "      <td>4000.000000</td>\n",
       "      <td>2000</td>\n",
       "      <td>1498.000000</td>\n",
       "      <td>395200.000000</td>\n",
       "      <td>1160.000000</td>\n",
       "      <td>0.500000</td>\n",
       "    </tr>\n",
       "    <tr>\n",
       "      <th>19685</th>\n",
       "      <td>Wheat</td>\n",
       "      <td>1998</td>\n",
       "      <td>Rabi</td>\n",
       "      <td>Nagaland</td>\n",
       "      <td>1000.000000</td>\n",
       "      <td>3000</td>\n",
       "      <td>1498.000000</td>\n",
       "      <td>98800.000000</td>\n",
       "      <td>290.000000</td>\n",
       "      <td>3.000000</td>\n",
       "    </tr>\n",
       "    <tr>\n",
       "      <th>19686</th>\n",
       "      <td>Maize</td>\n",
       "      <td>1997</td>\n",
       "      <td>Kharif</td>\n",
       "      <td>Jammu and Kashmir</td>\n",
       "      <td>310883.000000</td>\n",
       "      <td>440900</td>\n",
       "      <td>1356.200000</td>\n",
       "      <td>29586735.110000</td>\n",
       "      <td>96373.730000</td>\n",
       "      <td>1.285000</td>\n",
       "    </tr>\n",
       "    <tr>\n",
       "      <th>19687</th>\n",
       "      <td>Rice</td>\n",
       "      <td>1997</td>\n",
       "      <td>Kharif</td>\n",
       "      <td>Jammu and Kashmir</td>\n",
       "      <td>275746.000000</td>\n",
       "      <td>5488</td>\n",
       "      <td>1356.200000</td>\n",
       "      <td>26242746.820000</td>\n",
       "      <td>85481.260000</td>\n",
       "      <td>0.016667</td>\n",
       "    </tr>\n",
       "    <tr>\n",
       "      <th>19688</th>\n",
       "      <td>Wheat</td>\n",
       "      <td>1997</td>\n",
       "      <td>Rabi</td>\n",
       "      <td>Jammu and Kashmir</td>\n",
       "      <td>239344.000000</td>\n",
       "      <td>392160</td>\n",
       "      <td>1356.200000</td>\n",
       "      <td>22778368.480000</td>\n",
       "      <td>74196.640000</td>\n",
       "      <td>1.261818</td>\n",
       "    </tr>\n",
       "  </tbody>\n",
       "</table>\n",
       "<p>19689 rows × 10 columns</p>\n",
       "</div>"
      ],
      "text/plain": [
       "                Crop  Crop_Year       Season              State          Area  \\\n",
       "0           Arecanut       1997  Whole Year               Assam  73814.000000   \n",
       "1          Arhar/Tur       1997  Kharif                   Assam   6637.000000   \n",
       "2        Castor seed       1997  Kharif                   Assam    796.000000   \n",
       "3           Coconut        1997  Whole Year               Assam  19656.000000   \n",
       "4       Cotton(lint)       1997  Kharif                   Assam   1739.000000   \n",
       "...              ...        ...          ...                ...           ...   \n",
       "19684  Small millets       1998  Kharif                Nagaland   4000.000000   \n",
       "19685          Wheat       1998  Rabi                  Nagaland   1000.000000   \n",
       "19686          Maize       1997  Kharif       Jammu and Kashmir 310883.000000   \n",
       "19687           Rice       1997  Kharif       Jammu and Kashmir 275746.000000   \n",
       "19688          Wheat       1997  Rabi         Jammu and Kashmir 239344.000000   \n",
       "\n",
       "       Production  Annual_Rainfall      Fertilizer    Pesticide       Yield  \n",
       "0           56708      2051.400000  7024878.380000 22882.340000    0.796087  \n",
       "1            4685      2051.400000   631643.290000  2057.470000    0.710435  \n",
       "2              22      2051.400000    75755.320000   246.760000    0.238333  \n",
       "3       126905000      2051.400000  1870661.520000  6093.360000 5238.051739  \n",
       "4             794      2051.400000   165500.630000   539.090000    0.420909  \n",
       "...           ...              ...             ...          ...         ...  \n",
       "19684        2000      1498.000000   395200.000000  1160.000000    0.500000  \n",
       "19685        3000      1498.000000    98800.000000   290.000000    3.000000  \n",
       "19686      440900      1356.200000 29586735.110000 96373.730000    1.285000  \n",
       "19687        5488      1356.200000 26242746.820000 85481.260000    0.016667  \n",
       "19688      392160      1356.200000 22778368.480000 74196.640000    1.261818  \n",
       "\n",
       "[19689 rows x 10 columns]"
      ]
     },
     "execution_count": 10,
     "metadata": {},
     "output_type": "execute_result"
    }
   ],
   "source": [
    "crops = pd.read_csv(\"../datasets/crop_yield.csv\")\n",
    "crops"
   ]
  },
  {
   "cell_type": "markdown",
   "id": "122dde44",
   "metadata": {},
   "source": [
    "## Caracteristicas"
   ]
  },
  {
   "cell_type": "markdown",
   "id": "b3524280",
   "metadata": {},
   "source": [
    "### Columnas"
   ]
  },
  {
   "cell_type": "code",
   "execution_count": 11,
   "id": "ac862027",
   "metadata": {},
   "outputs": [
    {
     "data": {
      "text/plain": [
       "Index(['Crop', 'Crop_Year', 'Season', 'State', 'Area', 'Production',\n",
       "       'Annual_Rainfall', 'Fertilizer', 'Pesticide', 'Yield'],\n",
       "      dtype='object')"
      ]
     },
     "execution_count": 11,
     "metadata": {},
     "output_type": "execute_result"
    }
   ],
   "source": [
    "crops.columns"
   ]
  },
  {
   "cell_type": "markdown",
   "id": "a75b35bb",
   "metadata": {},
   "source": [
    "### Valores nulos"
   ]
  },
  {
   "cell_type": "code",
   "execution_count": 12,
   "id": "2be3cce1",
   "metadata": {},
   "outputs": [
    {
     "name": "stdout",
     "output_type": "stream",
     "text": [
      "<class 'pandas.core.frame.DataFrame'>\n",
      "RangeIndex: 19689 entries, 0 to 19688\n",
      "Data columns (total 10 columns):\n",
      " #   Column           Non-Null Count  Dtype  \n",
      "---  ------           --------------  -----  \n",
      " 0   Crop             19689 non-null  object \n",
      " 1   Crop_Year        19689 non-null  int64  \n",
      " 2   Season           19689 non-null  object \n",
      " 3   State            19689 non-null  object \n",
      " 4   Area             19689 non-null  float64\n",
      " 5   Production       19689 non-null  int64  \n",
      " 6   Annual_Rainfall  19689 non-null  float64\n",
      " 7   Fertilizer       19689 non-null  float64\n",
      " 8   Pesticide        19689 non-null  float64\n",
      " 9   Yield            19689 non-null  float64\n",
      "dtypes: float64(5), int64(2), object(3)\n",
      "memory usage: 1.5+ MB\n"
     ]
    }
   ],
   "source": [
    "\n",
    "crops.info()"
   ]
  },
  {
   "cell_type": "markdown",
   "id": "178785ac",
   "metadata": {},
   "source": [
    "No tiene valores nulos"
   ]
  },
  {
   "cell_type": "markdown",
   "id": "7ce7105c",
   "metadata": {},
   "source": [
    "### Descripción general"
   ]
  },
  {
   "cell_type": "code",
   "execution_count": 13,
   "id": "f398a7d4",
   "metadata": {},
   "outputs": [
    {
     "data": {
      "text/html": [
       "<div>\n",
       "<style scoped>\n",
       "    .dataframe tbody tr th:only-of-type {\n",
       "        vertical-align: middle;\n",
       "    }\n",
       "\n",
       "    .dataframe tbody tr th {\n",
       "        vertical-align: top;\n",
       "    }\n",
       "\n",
       "    .dataframe thead th {\n",
       "        text-align: right;\n",
       "    }\n",
       "</style>\n",
       "<table border=\"1\" class=\"dataframe\">\n",
       "  <thead>\n",
       "    <tr style=\"text-align: right;\">\n",
       "      <th></th>\n",
       "      <th>Crop_Year</th>\n",
       "      <th>Area</th>\n",
       "      <th>Production</th>\n",
       "      <th>Annual_Rainfall</th>\n",
       "      <th>Fertilizer</th>\n",
       "      <th>Pesticide</th>\n",
       "      <th>Yield</th>\n",
       "    </tr>\n",
       "  </thead>\n",
       "  <tbody>\n",
       "    <tr>\n",
       "      <th>count</th>\n",
       "      <td>19689.000000</td>\n",
       "      <td>19689.000000</td>\n",
       "      <td>19689.000000</td>\n",
       "      <td>19689.000000</td>\n",
       "      <td>19689.000000</td>\n",
       "      <td>19689.000000</td>\n",
       "      <td>19689.000000</td>\n",
       "    </tr>\n",
       "    <tr>\n",
       "      <th>mean</th>\n",
       "      <td>2009.127584</td>\n",
       "      <td>179926.570308</td>\n",
       "      <td>16435941.273097</td>\n",
       "      <td>1437.755177</td>\n",
       "      <td>24103312.448806</td>\n",
       "      <td>48848.353392</td>\n",
       "      <td>79.954009</td>\n",
       "    </tr>\n",
       "    <tr>\n",
       "      <th>std</th>\n",
       "      <td>6.498099</td>\n",
       "      <td>732828.675888</td>\n",
       "      <td>263056839.812568</td>\n",
       "      <td>816.909589</td>\n",
       "      <td>94946004.482527</td>\n",
       "      <td>213287.354860</td>\n",
       "      <td>878.306193</td>\n",
       "    </tr>\n",
       "    <tr>\n",
       "      <th>min</th>\n",
       "      <td>1997.000000</td>\n",
       "      <td>0.500000</td>\n",
       "      <td>0.000000</td>\n",
       "      <td>301.300000</td>\n",
       "      <td>54.170000</td>\n",
       "      <td>0.090000</td>\n",
       "      <td>0.000000</td>\n",
       "    </tr>\n",
       "    <tr>\n",
       "      <th>25%</th>\n",
       "      <td>2004.000000</td>\n",
       "      <td>1390.000000</td>\n",
       "      <td>1393.000000</td>\n",
       "      <td>940.700000</td>\n",
       "      <td>188014.620000</td>\n",
       "      <td>356.700000</td>\n",
       "      <td>0.600000</td>\n",
       "    </tr>\n",
       "    <tr>\n",
       "      <th>50%</th>\n",
       "      <td>2010.000000</td>\n",
       "      <td>9317.000000</td>\n",
       "      <td>13804.000000</td>\n",
       "      <td>1247.600000</td>\n",
       "      <td>1234957.440000</td>\n",
       "      <td>2421.900000</td>\n",
       "      <td>1.030000</td>\n",
       "    </tr>\n",
       "    <tr>\n",
       "      <th>75%</th>\n",
       "      <td>2015.000000</td>\n",
       "      <td>75112.000000</td>\n",
       "      <td>122718.000000</td>\n",
       "      <td>1643.700000</td>\n",
       "      <td>10003847.200000</td>\n",
       "      <td>20041.700000</td>\n",
       "      <td>2.388889</td>\n",
       "    </tr>\n",
       "    <tr>\n",
       "      <th>max</th>\n",
       "      <td>2020.000000</td>\n",
       "      <td>50808100.000000</td>\n",
       "      <td>6326000000.000000</td>\n",
       "      <td>6552.700000</td>\n",
       "      <td>4835406877.000000</td>\n",
       "      <td>15750511.000000</td>\n",
       "      <td>21105.000000</td>\n",
       "    </tr>\n",
       "  </tbody>\n",
       "</table>\n",
       "</div>"
      ],
      "text/plain": [
       "         Crop_Year            Area        Production  Annual_Rainfall  \\\n",
       "count 19689.000000    19689.000000      19689.000000     19689.000000   \n",
       "mean   2009.127584   179926.570308   16435941.273097      1437.755177   \n",
       "std       6.498099   732828.675888  263056839.812568       816.909589   \n",
       "min    1997.000000        0.500000          0.000000       301.300000   \n",
       "25%    2004.000000     1390.000000       1393.000000       940.700000   \n",
       "50%    2010.000000     9317.000000      13804.000000      1247.600000   \n",
       "75%    2015.000000    75112.000000     122718.000000      1643.700000   \n",
       "max    2020.000000 50808100.000000 6326000000.000000      6552.700000   \n",
       "\n",
       "             Fertilizer       Pesticide        Yield  \n",
       "count      19689.000000    19689.000000 19689.000000  \n",
       "mean    24103312.448806    48848.353392    79.954009  \n",
       "std     94946004.482527   213287.354860   878.306193  \n",
       "min           54.170000        0.090000     0.000000  \n",
       "25%       188014.620000      356.700000     0.600000  \n",
       "50%      1234957.440000     2421.900000     1.030000  \n",
       "75%     10003847.200000    20041.700000     2.388889  \n",
       "max   4835406877.000000 15750511.000000 21105.000000  "
      ]
     },
     "execution_count": 13,
     "metadata": {},
     "output_type": "execute_result"
    }
   ],
   "source": [
    "crops.describe()"
   ]
  },
  {
   "cell_type": "markdown",
   "id": "fdd16e64",
   "metadata": {},
   "source": [
    "### Computación de temporada de cosecha"
   ]
  },
  {
   "cell_type": "code",
   "execution_count": 14,
   "id": "ee7379a7",
   "metadata": {},
   "outputs": [
    {
     "data": {
      "text/plain": [
       "array(['Whole Year', 'Kharif', 'Rabi', 'Autumn', 'Summer', 'Winter'],\n",
       "      dtype=object)"
      ]
     },
     "execution_count": 14,
     "metadata": {},
     "output_type": "execute_result"
    }
   ],
   "source": [
    "crops[\"Season\"] = crops[\"Season\"].apply(lambda x: x.strip())\n",
    "crops[\"Season\"].unique()"
   ]
  },
  {
   "cell_type": "code",
   "execution_count": 15,
   "id": "d6310d8a",
   "metadata": {},
   "outputs": [
    {
     "data": {
      "text/plain": [
       "array(['Whole Year', 'Autumn', 'Spring', 'Summer', 'Winter'], dtype=object)"
      ]
     },
     "execution_count": 15,
     "metadata": {},
     "output_type": "execute_result"
    }
   ],
   "source": [
    "crops[\"SeasonNorm\"] = crops[\"Season\"].replace({\"Kharif\": \"Autumn\", \"Rabi\": \"Spring\"})\n",
    "crops[\"SeasonNorm\"].unique()"
   ]
  },
  {
   "cell_type": "markdown",
   "id": "2ed55397",
   "metadata": {},
   "source": [
    "### Tipos de cultivo"
   ]
  },
  {
   "cell_type": "code",
   "execution_count": 31,
   "id": "72866c1d",
   "metadata": {},
   "outputs": [
    {
     "name": "stdout",
     "output_type": "stream",
     "text": [
      "(55,)\n"
     ]
    },
    {
     "data": {
      "text/plain": [
       "array(['Arecanut', 'Arhar/Tur', 'Castor seed', 'Coconut ', 'Cotton(lint)',\n",
       "       'Dry chillies', 'Gram', 'Jute', 'Linseed', 'Maize', 'Mesta',\n",
       "       'Niger seed', 'Onion', 'Other  Rabi pulses', 'Potato',\n",
       "       'Rapeseed &Mustard', 'Rice', 'Sesamum', 'Small millets',\n",
       "       'Sugarcane', 'Sweet potato', 'Tapioca', 'Tobacco', 'Turmeric',\n",
       "       'Wheat', 'Bajra', 'Black pepper', 'Cardamom', 'Coriander',\n",
       "       'Garlic', 'Ginger', 'Groundnut', 'Horse-gram', 'Jowar', 'Ragi',\n",
       "       'Cashewnut', 'Banana', 'Soyabean', 'Barley', 'Khesari', 'Masoor',\n",
       "       'Moong(Green Gram)', 'Other Kharif pulses', 'Safflower',\n",
       "       'Sannhamp', 'Sunflower', 'Urad', 'Peas & beans (Pulses)',\n",
       "       'other oilseeds', 'Other Cereals', 'Cowpea(Lobia)',\n",
       "       'Oilseeds total', 'Guar seed', 'Other Summer Pulses', 'Moth'],\n",
       "      dtype=object)"
      ]
     },
     "execution_count": 31,
     "metadata": {},
     "output_type": "execute_result"
    }
   ],
   "source": [
    "print(crops[\"Crop\"].value_counts().shape)\n",
    "crops[\"Crop\"].unique()"
   ]
  },
  {
   "cell_type": "code",
   "execution_count": 17,
   "id": "ac3369d3",
   "metadata": {},
   "outputs": [
    {
     "data": {
      "image/png": "[encoded data removed]",
      "text/plain": [
       "<Figure size 3000x1000 with 1 Axes>"
      ]
     },
     "metadata": {},
     "output_type": "display_data"
    }
   ],
   "source": [
    "fig, ax = plt.subplots()\n",
    "plt.tight_layout()\n",
    "ax.bar(crops[\"Crop\"].value_counts().index,crops[\"Crop\"].value_counts().values)\n",
    "ax.tick_params(axis='x', labelrotation=45)\n",
    "ax.axhline(crops[\"Crop\"].value_counts().median())\n",
    "plt.show()"
   ]
  },
  {
   "cell_type": "markdown",
   "id": "4470b4d4",
   "metadata": {},
   "source": [
    "### Area"
   ]
  },
  {
   "cell_type": "code",
   "execution_count": 18,
   "id": "aeb988fd",
   "metadata": {},
   "outputs": [
    {
     "name": "stdout",
     "output_type": "stream",
     "text": [
      "count       19689.000000\n",
      "mean       179926.570308\n",
      "std        732828.675888\n",
      "min             0.500000\n",
      "25%          1390.000000\n",
      "50%          9317.000000\n",
      "75%         75112.000000\n",
      "max      50808100.000000\n",
      "Name: Area, dtype: object\n",
      "count    16613.000000\n",
      "mean     23798.947837\n",
      "std      39055.535408\n",
      "min          0.500000\n",
      "25%        938.000000\n",
      "50%       5350.000000\n",
      "75%      26407.000000\n",
      "max     185670.000000\n",
      "Name: Area, dtype: float64\n"
     ]
    }
   ],
   "source": [
    "print(crops[\"Area\"].describe().apply('{:.6f}'.format))\n",
    "print(crops[iqr(crops[\"Area\"])][\"Area\"].describe())\n"
   ]
  },
  {
   "cell_type": "markdown",
   "id": "1a9b4c5d",
   "metadata": {},
   "source": [
    "### Año del cultivo"
   ]
  },
  {
   "cell_type": "code",
   "execution_count": 19,
   "id": "48a0235c",
   "metadata": {},
   "outputs": [
    {
     "name": "stdout",
     "output_type": "stream",
     "text": [
      "24\n"
     ]
    },
    {
     "data": {
      "text/plain": [
       "array([1997, 1998, 1999, 2000, 2001, 2002, 2003, 2004, 2005, 2006, 2007,\n",
       "       2008, 2009, 2010, 2011, 2012, 2013, 2014, 2015, 2016, 2017, 2018,\n",
       "       2019, 2020])"
      ]
     },
     "execution_count": 19,
     "metadata": {},
     "output_type": "execute_result"
    }
   ],
   "source": [
    "print(len(crops[\"Crop_Year\"].unique()))\n",
    "crops[\"Crop_Year\"].unique()"
   ]
  },
  {
   "cell_type": "markdown",
   "id": "6d8c786c",
   "metadata": {},
   "source": [
    "### State"
   ]
  },
  {
   "cell_type": "code",
   "execution_count": 20,
   "id": "4ae4fb4f",
   "metadata": {},
   "outputs": [
    {
     "name": "stdout",
     "output_type": "stream",
     "text": [
      "30\n"
     ]
    },
    {
     "data": {
      "text/plain": [
       "array(['Assam', 'Karnataka', 'Kerala', 'Meghalaya', 'West Bengal',\n",
       "       'Puducherry', 'Goa', 'Andhra Pradesh', 'Tamil Nadu', 'Odisha',\n",
       "       'Bihar', 'Gujarat', 'Madhya Pradesh', 'Maharashtra', 'Mizoram',\n",
       "       'Punjab', 'Uttar Pradesh', 'Haryana', 'Himachal Pradesh',\n",
       "       'Tripura', 'Nagaland', 'Chhattisgarh', 'Uttarakhand', 'Jharkhand',\n",
       "       'Delhi', 'Manipur', 'Jammu and Kashmir', 'Telangana',\n",
       "       'Arunachal Pradesh', 'Sikkim'], dtype=object)"
      ]
     },
     "execution_count": 20,
     "metadata": {},
     "output_type": "execute_result"
    }
   ],
   "source": [
    "print(len(crops[\"State\"].unique()))\n",
    "crops[\"State\"].unique()"
   ]
  },
  {
   "cell_type": "markdown",
   "id": "abb4c308",
   "metadata": {},
   "source": [
    "---"
   ]
  },
  {
   "cell_type": "markdown",
   "id": "897ab8d6",
   "metadata": {},
   "source": [
    "### Rainfall by state"
   ]
  },
  {
   "cell_type": "code",
   "execution_count": 21,
   "id": "fc1aa0c0",
   "metadata": {},
   "outputs": [
    {
     "data": {
      "text/plain": [
       "<Axes: ylabel='State'>"
      ]
     },
     "execution_count": 21,
     "metadata": {},
     "output_type": "execute_result"
    },
    {
     "data": {
      "image/png": "[encoded data removed]",
      "text/plain": [
       "<Figure size 3000x1000 with 1 Axes>"
      ]
     },
     "metadata": {},
     "output_type": "display_data"
    }
   ],
   "source": [
    "byYear = crops.groupby([\"Crop_Year\",\"State\"])\n",
    "anno1997 = byYear[\"Annual_Rainfall\"].max()[1997].reset_index()\n",
    "anno1997.plot.barh(x=\"State\", y=\"Annual_Rainfall\")"
   ]
  },
  {
   "cell_type": "markdown",
   "id": "df2742f1",
   "metadata": {},
   "source": [
    "---"
   ]
  },
  {
   "cell_type": "markdown",
   "id": "7dd874dd",
   "metadata": {},
   "source": [
    "### Rainfall"
   ]
  },
  {
   "cell_type": "code",
   "execution_count": 22,
   "id": "fecdb98c",
   "metadata": {},
   "outputs": [
    {
     "name": "stdout",
     "output_type": "stream",
     "text": [
      "count   19689.000000\n",
      "mean     1437.755177\n",
      "std       816.909589\n",
      "min       301.300000\n",
      "25%       940.700000\n",
      "50%      1247.600000\n",
      "75%      1643.700000\n",
      "max      6552.700000\n",
      "Name: Annual_Rainfall, dtype: float64\n"
     ]
    },
    {
     "data": {
      "text/plain": [
       "count   18162.000000\n",
       "mean     1259.664330\n",
       "std       499.117155\n",
       "min       301.300000\n",
       "25%       918.100000\n",
       "50%      1203.800000\n",
       "75%      1532.000000\n",
       "max      2678.500000\n",
       "Name: Annual_Rainfall, dtype: float64"
      ]
     },
     "execution_count": 22,
     "metadata": {},
     "output_type": "execute_result"
    }
   ],
   "source": [
    "print(crops[\"Annual_Rainfall\"].describe())\n",
    "crops[\"Annual_Rainfall\"][iqr(crops[\"Annual_Rainfall\"])].describe()"
   ]
  },
  {
   "cell_type": "code",
   "execution_count": 23,
   "id": "6206d356",
   "metadata": {},
   "outputs": [
    {
     "name": "stdout",
     "output_type": "stream",
     "text": [
      "count        19689.000000\n",
      "mean      16435941.273097\n",
      "std      263056839.812568\n",
      "min              0.000000\n",
      "25%           1393.000000\n",
      "50%          13804.000000\n",
      "75%         122718.000000\n",
      "max     6326000000.000000\n",
      "Name: Production, dtype: float64\n",
      "count    16316.000000\n",
      "mean     34411.232287\n",
      "std      60058.553653\n",
      "min          0.000000\n",
      "25%        849.750000\n",
      "50%       6237.500000\n",
      "75%      36149.750000\n",
      "max     304516.000000\n",
      "Name: Production, dtype: float64\n"
     ]
    }
   ],
   "source": [
    "print(crops[\"Production\"].describe())\n",
    "print(crops[\"Production\"][iqr(crops[\"Production\"])].describe())"
   ]
  },
  {
   "cell_type": "markdown",
   "id": "66af58ef",
   "metadata": {},
   "source": [
    "### Fertilizer"
   ]
  },
  {
   "cell_type": "code",
   "execution_count": 24,
   "id": "a151290d",
   "metadata": {},
   "outputs": [
    {
     "name": "stdout",
     "output_type": "stream",
     "text": [
      "count        19689.000000\n",
      "mean      24103312.448806\n",
      "std       94946004.482527\n",
      "min             54.170000\n",
      "25%         188014.620000\n",
      "50%        1234957.440000\n",
      "75%       10003847.200000\n",
      "max     4835406877.000000\n",
      "Name: Fertilizer, dtype: float64\n",
      "count      16596.000000\n",
      "mean     3137241.779961\n",
      "std      5105540.190299\n",
      "min           54.170000\n",
      "25%       126967.665000\n",
      "50%       719720.370000\n",
      "75%      3567292.560000\n",
      "max     24682894.830000\n",
      "Name: Fertilizer, dtype: float64\n"
     ]
    }
   ],
   "source": [
    "print(crops[\"Fertilizer\"].describe())\n",
    "print(crops[\"Fertilizer\"][iqr(crops[\"Fertilizer\"])].describe())"
   ]
  },
  {
   "cell_type": "markdown",
   "id": "0d789a38",
   "metadata": {},
   "source": [
    "### Pesticide"
   ]
  },
  {
   "cell_type": "code",
   "execution_count": 25,
   "id": "10ca50ff",
   "metadata": {},
   "outputs": [
    {
     "name": "stdout",
     "output_type": "stream",
     "text": [
      "count      19689.000000\n",
      "mean       48848.353392\n",
      "std       213287.354860\n",
      "min            0.090000\n",
      "25%          356.700000\n",
      "50%         2421.900000\n",
      "75%        20041.700000\n",
      "max     15750511.000000\n",
      "Name: Pesticide, dtype: float64\n",
      "count   16653.000000\n",
      "mean     6349.525176\n",
      "std     10446.436277\n",
      "min         0.090000\n",
      "25%       247.500000\n",
      "50%      1411.920000\n",
      "75%      7012.500000\n",
      "max     49550.860000\n",
      "Name: Pesticide, dtype: float64\n"
     ]
    }
   ],
   "source": [
    "print(crops[\"Pesticide\"].describe())\n",
    "print(crops[\"Pesticide\"][iqr(crops[\"Pesticide\"])].describe())"
   ]
  },
  {
   "cell_type": "markdown",
   "id": "dc4df859",
   "metadata": {},
   "source": [
    "### Yield"
   ]
  },
  {
   "cell_type": "code",
   "execution_count": 26,
   "id": "f336720b",
   "metadata": {},
   "outputs": [
    {
     "name": "stdout",
     "output_type": "stream",
     "text": [
      "count   19689.000000\n",
      "mean       79.954009\n",
      "std       878.306193\n",
      "min         0.000000\n",
      "25%         0.600000\n",
      "50%         1.030000\n",
      "75%         2.388889\n",
      "max     21105.000000\n",
      "Name: Yield, dtype: float64\n",
      "count   16624.000000\n",
      "mean        1.177561\n",
      "std         0.933590\n",
      "min         0.000000\n",
      "25%         0.542500\n",
      "50%         0.888452\n",
      "75%         1.522000\n",
      "max         5.070800\n",
      "Name: Yield, dtype: float64\n"
     ]
    }
   ],
   "source": [
    "print(crops[\"Yield\"].describe())\n",
    "print(crops[\"Yield\"][iqr(crops[\"Yield\"])].describe())"
   ]
  },
  {
   "cell_type": "markdown",
   "id": "76e95bde",
   "metadata": {},
   "source": [
    "### Variables de estudio"
   ]
  },
  {
   "cell_type": "code",
   "execution_count": 82,
   "id": "c4b81de6",
   "metadata": {},
   "outputs": [],
   "source": [
    "VARIABLES = [\"Annual_Rainfall\", \"Pesticide\", \"Fertilizer\"]"
   ]
  },
  {
   "cell_type": "markdown",
   "id": "37d2c909",
   "metadata": {},
   "source": [
    "### Correlación de yield"
   ]
  },
  {
   "cell_type": "code",
   "execution_count": 84,
   "id": "33f8b46b",
   "metadata": {},
   "outputs": [
    {
     "name": "stdout",
     "output_type": "stream",
     "text": [
      "---\n",
      "Annual_Rainfall 0.020760951693660084\n",
      "Pesticide 0.0017816337217472092\n",
      "Fertilizer 0.002861864268230711\n",
      "---\n"
     ]
    }
   ],
   "source": [
    "def correlacion_rinde(df: pd.DataFrame) -> None:\n",
    "    print(\"---\")\n",
    "    for factor in VARIABLES:\n",
    "        print(factor, df[\"Yield\"].corr(df[factor]))\n",
    "    print(\"---\")\n",
    "\n",
    "def correlacion_alta(df: pd.DataFrame, threshold:float = 0.5) -> bool:\n",
    "    for factor in VARIABLES:\n",
    "        if abs(df[\"Yield\"].corr(df[factor])) > threshold:\n",
    "            return True\n",
    "    return False\n",
    "\n",
    "correlacion_rinde(crops)"
   ]
  },
  {
   "cell_type": "markdown",
   "id": "e1f13932",
   "metadata": {},
   "source": [
    "### Filtro solo cultivos de interés"
   ]
  },
  {
   "cell_type": "code",
   "execution_count": 94,
   "id": "e500bc52",
   "metadata": {},
   "outputs": [],
   "source": [
    "high_corr_crops = {}\n",
    "for crop in crops[\"Crop\"]:\n",
    "    filtered = crops[crops[\"Crop\"] == crop][VARIABLES + [\"Crop_Year\",\"Yield\"]]\n",
    "    if correlacion_alta(filtered, 0.4):\n",
    "        high_corr_crops[crop] = filtered"
   ]
  },
  {
   "cell_type": "code",
   "execution_count": 88,
   "id": "58112e11",
   "metadata": {},
   "outputs": [
    {
     "data": {
      "text/plain": [
       "dict_keys(['Arecanut', 'Castor seed', 'Coconut ', 'Jute', 'Sweet potato', 'Tapioca', 'Wheat', 'Coriander', 'Ginger', 'Banana', 'Barley', 'Khesari', 'Sannhamp', 'other oilseeds', 'Cowpea(Lobia)', 'Oilseeds total', 'Other Summer Pulses'])"
      ]
     },
     "execution_count": 88,
     "metadata": {},
     "output_type": "execute_result"
    }
   ],
   "source": [
    "high_corr_crops.keys()"
   ]
  },
  {
   "cell_type": "markdown",
   "id": "2cc44870",
   "metadata": {},
   "source": [
    "Me quedo solo con los que crecen en Argentina"
   ]
  },
  {
   "cell_type": "code",
   "execution_count": 97,
   "id": "e02a7ce1",
   "metadata": {},
   "outputs": [
    {
     "data": {
      "text/plain": [
       "dict_keys(['Sweet potato', 'Tapioca', 'Wheat', 'Banana', 'Barley', 'Oilseeds total'])"
      ]
     },
     "execution_count": 97,
     "metadata": {},
     "output_type": "execute_result"
    }
   ],
   "source": [
    "cultivos_nacionales = [\"Sweet potato\", \"Tapioca\", \"Wheat\", \"Banana\", \"Barley\", \"Oilseeds total\"]\n",
    "work_dfs = {k:v for k,v in high_corr_crops.items() if k in cultivos_nacionales}\n",
    "work_dfs.keys()"
   ]
  },
  {
   "cell_type": "code",
   "execution_count": 98,
   "id": "b405acca",
   "metadata": {},
   "outputs": [
    {
     "name": "stdout",
     "output_type": "stream",
     "text": [
      "Sweet potato\n",
      "---\n",
      "Annual_Rainfall -0.40078049518582404\n",
      "Pesticide -0.042092457785897854\n",
      "Fertilizer -0.03448791703746476\n",
      "---\n",
      "Tapioca\n",
      "---\n",
      "Annual_Rainfall -0.1939047585360869\n",
      "Pesticide 0.7032582013866836\n",
      "Fertilizer 0.7396837390127227\n",
      "---\n",
      "Wheat\n",
      "---\n",
      "Annual_Rainfall -0.40989102506489217\n",
      "Pesticide 0.4377810309359692\n",
      "Fertilizer 0.447304548586595\n",
      "---\n",
      "Banana\n",
      "---\n",
      "Annual_Rainfall -0.5478370163504195\n",
      "Pesticide 0.23558139396018216\n",
      "Fertilizer 0.22682964838520178\n",
      "---\n",
      "Barley\n",
      "---\n",
      "Annual_Rainfall -0.49883329328727066\n",
      "Pesticide 0.2793057246286137\n",
      "Fertilizer 0.29976243565300564\n",
      "---\n",
      "Oilseeds total\n",
      "---\n",
      "Annual_Rainfall -0.6068056183629766\n",
      "Pesticide 0.4977797450394899\n",
      "Fertilizer 0.5978367239183874\n",
      "---\n"
     ]
    }
   ],
   "source": [
    "for name,_df in work_dfs.items():\n",
    "    print(name)\n",
    "    correlacion_rinde(_df)\n",
    "    name = name.replace(\" \",\"_\")\n",
    "    _df.to_csv(f\"./cultivos/{name}.csv\", index=False)"
   ]
  },
  {
   "cell_type": "code",
   "execution_count": null,
   "id": "e0067cdf",
   "metadata": {},
   "outputs": [
    {
     "data": {
      "text/html": [
       "<div>\n",
       "<style scoped>\n",
       "    .dataframe tbody tr th:only-of-type {\n",
       "        vertical-align: middle;\n",
       "    }\n",
       "\n",
       "    .dataframe tbody tr th {\n",
       "        vertical-align: top;\n",
       "    }\n",
       "\n",
       "    .dataframe thead th {\n",
       "        text-align: right;\n",
       "    }\n",
       "</style>\n",
       "<table border=\"1\" class=\"dataframe\">\n",
       "  <thead>\n",
       "    <tr style=\"text-align: right;\">\n",
       "      <th></th>\n",
       "      <th>Annual_Rainfall</th>\n",
       "      <th>Fertilizer</th>\n",
       "    </tr>\n",
       "    <tr>\n",
       "      <th>Crop_Year</th>\n",
       "      <th></th>\n",
       "      <th></th>\n",
       "    </tr>\n",
       "  </thead>\n",
       "  <tbody>\n",
       "    <tr>\n",
       "      <th>1997</th>\n",
       "      <td>8975.000000</td>\n",
       "      <td>53057370.170000</td>\n",
       "    </tr>\n",
       "    <tr>\n",
       "      <th>1998</th>\n",
       "      <td>11817.200000</td>\n",
       "      <td>55885528.400000</td>\n",
       "    </tr>\n",
       "    <tr>\n",
       "      <th>1999</th>\n",
       "      <td>10656.300000</td>\n",
       "      <td>53617088.260000</td>\n",
       "    </tr>\n",
       "    <tr>\n",
       "      <th>2000</th>\n",
       "      <td>15539.500000</td>\n",
       "      <td>52908525.160000</td>\n",
       "    </tr>\n",
       "    <tr>\n",
       "      <th>2001</th>\n",
       "      <td>16005.000000</td>\n",
       "      <td>49157926.510000</td>\n",
       "    </tr>\n",
       "    <tr>\n",
       "      <th>2002</th>\n",
       "      <td>13917.500000</td>\n",
       "      <td>44731953.680000</td>\n",
       "    </tr>\n",
       "    <tr>\n",
       "      <th>2003</th>\n",
       "      <td>18852.600000</td>\n",
       "      <td>46312724.183600</td>\n",
       "    </tr>\n",
       "    <tr>\n",
       "      <th>2004</th>\n",
       "      <td>14688.200000</td>\n",
       "      <td>46254307.993800</td>\n",
       "    </tr>\n",
       "    <tr>\n",
       "      <th>2005</th>\n",
       "      <td>13736.700000</td>\n",
       "      <td>49540870.720000</td>\n",
       "    </tr>\n",
       "    <tr>\n",
       "      <th>2006</th>\n",
       "      <td>14182.600000</td>\n",
       "      <td>42680298.870000</td>\n",
       "    </tr>\n",
       "    <tr>\n",
       "      <th>2007</th>\n",
       "      <td>15023.200000</td>\n",
       "      <td>47337657.000000</td>\n",
       "    </tr>\n",
       "    <tr>\n",
       "      <th>2008</th>\n",
       "      <td>14042.200000</td>\n",
       "      <td>56387798.400000</td>\n",
       "    </tr>\n",
       "    <tr>\n",
       "      <th>2009</th>\n",
       "      <td>12669.600000</td>\n",
       "      <td>58317193.200000</td>\n",
       "    </tr>\n",
       "    <tr>\n",
       "      <th>2010</th>\n",
       "      <td>16370.200000</td>\n",
       "      <td>59436981.870000</td>\n",
       "    </tr>\n",
       "    <tr>\n",
       "      <th>2011</th>\n",
       "      <td>16112.477273</td>\n",
       "      <td>59290018.560000</td>\n",
       "    </tr>\n",
       "    <tr>\n",
       "      <th>2012</th>\n",
       "      <td>15633.100000</td>\n",
       "      <td>57299626.800000</td>\n",
       "    </tr>\n",
       "    <tr>\n",
       "      <th>2013</th>\n",
       "      <td>16684.900000</td>\n",
       "      <td>52179673.700000</td>\n",
       "    </tr>\n",
       "    <tr>\n",
       "      <th>2014</th>\n",
       "      <td>13973.200000</td>\n",
       "      <td>47983843.680000</td>\n",
       "    </tr>\n",
       "    <tr>\n",
       "      <th>2015</th>\n",
       "      <td>16894.900000</td>\n",
       "      <td>49928299.620000</td>\n",
       "    </tr>\n",
       "    <tr>\n",
       "      <th>2016</th>\n",
       "      <td>17943.500000</td>\n",
       "      <td>57961755.250000</td>\n",
       "    </tr>\n",
       "    <tr>\n",
       "      <th>2017</th>\n",
       "      <td>16778.800000</td>\n",
       "      <td>56629751.040000</td>\n",
       "    </tr>\n",
       "    <tr>\n",
       "      <th>2018</th>\n",
       "      <td>17922.300000</td>\n",
       "      <td>43130926.400000</td>\n",
       "    </tr>\n",
       "    <tr>\n",
       "      <th>2019</th>\n",
       "      <td>17739.300000</td>\n",
       "      <td>46976188.240000</td>\n",
       "    </tr>\n",
       "    <tr>\n",
       "      <th>2020</th>\n",
       "      <td>1313.947826</td>\n",
       "      <td>3732800.800000</td>\n",
       "    </tr>\n",
       "  </tbody>\n",
       "</table>\n",
       "</div>"
      ],
      "text/plain": [
       "           Annual_Rainfall      Fertilizer\n",
       "Crop_Year                                 \n",
       "1997           8975.000000 53057370.170000\n",
       "1998          11817.200000 55885528.400000\n",
       "1999          10656.300000 53617088.260000\n",
       "2000          15539.500000 52908525.160000\n",
       "2001          16005.000000 49157926.510000\n",
       "2002          13917.500000 44731953.680000\n",
       "2003          18852.600000 46312724.183600\n",
       "2004          14688.200000 46254307.993800\n",
       "2005          13736.700000 49540870.720000\n",
       "2006          14182.600000 42680298.870000\n",
       "2007          15023.200000 47337657.000000\n",
       "2008          14042.200000 56387798.400000\n",
       "2009          12669.600000 58317193.200000\n",
       "2010          16370.200000 59436981.870000\n",
       "2011          16112.477273 59290018.560000\n",
       "2012          15633.100000 57299626.800000\n",
       "2013          16684.900000 52179673.700000\n",
       "2014          13973.200000 47983843.680000\n",
       "2015          16894.900000 49928299.620000\n",
       "2016          17943.500000 57961755.250000\n",
       "2017          16778.800000 56629751.040000\n",
       "2018          17922.300000 43130926.400000\n",
       "2019          17739.300000 46976188.240000\n",
       "2020           1313.947826  3732800.800000"
      ]
     },
     "execution_count": 151,
     "metadata": {},
     "output_type": "execute_result"
    }
   ],
   "source": [
    "def yearly_crop_sum_by_state(crop:str, df:pd.DataFrame) -> \"pd.DataFrameGroupBy\":\n",
    "    return df[df[\"Crop\"] == crop].pivot_table(index=\"Crop_Year\", values=[\"Annual_Rainfall\", \"Fertilizer\"], aggfunc=\"sum\")\n",
    "\n",
    "by_year = yearly_crop_sum_by_state(\"Barley\", crops)[[\"Annual_Rainfall\", \"Fertilizer\"]]\n",
    "by_year\n"
   ]
  }
 ],
 "metadata": {
  "kernelspec": {
   "display_name": "venv",
   "language": "python",
   "name": "python3"
  },
  "language_info": {
   "codemirror_mode": {
    "name": "ipython",
    "version": 3
   },
   "file_extension": ".py",
   "mimetype": "text/x-python",
   "name": "python",
   "nbconvert_exporter": "python",
   "pygments_lexer": "ipython3",
   "version": "3.10.12"
  }
 },
 "nbformat": 4,
 "nbformat_minor": 5
}
